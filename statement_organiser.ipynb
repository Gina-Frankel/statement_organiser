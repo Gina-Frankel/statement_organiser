{
 "cells": [
  {
   "cell_type": "code",
   "execution_count": 53,
   "metadata": {
    "colab": {
     "base_uri": "https://localhost:8080/",
     "height": 34
    },
    "colab_type": "code",
    "id": "7hrB5K9hGkFv",
    "outputId": "4f106b5c-3769-41fe-cac3-c67b1fabb2bd"
   },
   "outputs": [
    {
     "name": "stdout",
     "output_type": "stream",
     "text": [
      "Hello, welcome to your account organiser\n"
     ]
    }
   ],
   "source": [
    "print(\"Hello, welcome to your account organiser\")"
   ]
  },
  {
   "cell_type": "code",
   "execution_count": 56,
   "metadata": {
    "colab": {
     "base_uri": "https://localhost:8080/",
     "height": 51
    },
    "colab_type": "code",
    "id": "-KXCSqaIG3Cu",
    "outputId": "edaa7d13-f7c1-4e0c-de09-b21bff403490"
   },
   "outputs": [
    {
     "name": "stdout",
     "output_type": "stream",
     "text": [
      "Please enter a the name of your file you would like to organise:\n",
      "example.csv\n"
     ]
    }
   ],
   "source": [
    "file_name = input(\"Please enter a the name of your file you would like to organise:\\n\")"
   ]
  },
  {
   "cell_type": "code",
   "execution_count": 62,
   "metadata": {
    "colab": {
     "base_uri": "https://localhost:8080/",
     "height": 232
    },
    "colab_type": "code",
    "id": "XicxxpVPHbmV",
    "outputId": "310ecd60-83c9-43ef-ab42-c79a2e0acc2f"
   },
   "outputs": [
    {
     "name": "stdout",
     "output_type": "stream",
     "text": [
      "Your csv file is now ready to be organised...\n"
     ]
    }
   ],
   "source": [
    ">>> import csv\n",
    "\n",
    "account_array = []\n",
    "with open(file_name) as csvDataFile:\n",
    "    csvReader = csv.reader(csvDataFile)\n",
    "    for row in csvReader:\n",
    "        account_array.append(row)\n",
    "... print(\"Your csv file is now ready to be organised...\")"
   ]
  },
  {
   "cell_type": "code",
   "execution_count": 58,
   "metadata": {
    "colab": {},
    "colab_type": "code",
    "id": "yjBVQl1jTKyq"
   },
   "outputs": [],
   "source": [
    "import re\n",
    "regex_pattern = r\"(?:[A-Z]{2,} [A-Z]/?[A-Z]*-?[A-Z]*|\\b[A-Z]{2,})\""
   ]
  },
  {
   "cell_type": "code",
   "execution_count": 59,
   "metadata": {
    "colab": {},
    "colab_type": "code",
    "id": "U64iu7SrLgp2"
   },
   "outputs": [
    {
     "name": "stdout",
     "output_type": "stream",
     "text": [
      "ID added to each row\n"
     ]
    }
   ],
   "source": [
    "\n",
    "for row in account_array:\n",
    "    match  = re.search(regex_pattern, row[2])\n",
    "    if match:\n",
    "        company = (match.group())\n",
    "    else:\n",
    "        company = \"No company found\"\n",
    "    row.append(id)\n",
    "\n",
    "print('ID added to each row')\n",
    " \n",
    "    "
   ]
  },
  {
   "cell_type": "markdown",
   "metadata": {
    "colab_type": "text",
    "id": "1uodsjlakgAa"
   },
   "source": [
    "Create header for ID column\n"
   ]
  },
  {
   "cell_type": "code",
   "execution_count": 60,
   "metadata": {
    "colab": {},
    "colab_type": "code",
    "id": "6xfmUCMzMWhw"
   },
   "outputs": [],
   "source": [
    "account_array[0][-1] = ('Company')"
   ]
  },
  {
   "cell_type": "code",
   "execution_count": 61,
   "metadata": {
    "colab": {},
    "colab_type": "code",
    "id": "x_JpC-5AMdTi"
   },
   "outputs": [],
   "source": [
    "with open('organised_statement.csv', mode='w') as csvfile:\n",
    "    statement_writer = csv.writer(csvfile, delimiter=',', quotechar='\"', quoting=csv.QUOTE_MINIMAL)\n",
    "    for row in account_array:\n",
    "        statement_writer.writerow(row)"
   ]
  }
 ],
 "metadata": {
  "colab": {
   "name": "account_organiser.ipynb",
   "provenance": []
  },
  "kernelspec": {
   "display_name": "Python 3",
   "language": "python",
   "name": "python3"
  },
  "language_info": {
   "codemirror_mode": {
    "name": "ipython",
    "version": 3
   },
   "file_extension": ".py",
   "mimetype": "text/x-python",
   "name": "python",
   "nbconvert_exporter": "python",
   "pygments_lexer": "ipython3",
   "version": "3.7.6"
  }
 },
 "nbformat": 4,
 "nbformat_minor": 1
}
