{
  "nbformat": 4,
  "nbformat_minor": 0,
  "metadata": {
    "colab": {
      "name": "account_organiser.ipynb",
      "provenance": [],
      "authorship_tag": "ABX9TyOiVe7TcawDr1e7QLQqEdgu",
      "include_colab_link": true
    },
    "kernelspec": {
      "name": "python3",
      "display_name": "Python 3"
    }
  },
  "cells": [
    {
      "cell_type": "markdown",
      "metadata": {
        "id": "view-in-github",
        "colab_type": "text"
      },
      "source": [
        "<a href=\"https://colab.research.google.com/github/Gina-Frankel/statement_organiser/blob/master/account_organiser.ipynb\" target=\"_parent\"><img src=\"https://colab.research.google.com/assets/colab-badge.svg\" alt=\"Open In Colab\"/></a>"
      ]
    },
    {
      "cell_type": "code",
      "metadata": {
        "id": "7hrB5K9hGkFv",
        "colab_type": "code",
        "colab": {
          "base_uri": "https://localhost:8080/",
          "height": 34
        },
        "outputId": "4f106b5c-3769-41fe-cac3-c67b1fabb2bd"
      },
      "source": [
        "print(\"Hello, welcome to your account organiser\")"
      ],
      "execution_count": 1,
      "outputs": [
        {
          "output_type": "stream",
          "text": [
            "Hello, welcome to your account organiser\n"
          ],
          "name": "stdout"
        }
      ]
    },
    {
      "cell_type": "code",
      "metadata": {
        "id": "-KXCSqaIG3Cu",
        "colab_type": "code",
        "colab": {
          "base_uri": "https://localhost:8080/",
          "height": 51
        },
        "outputId": "edaa7d13-f7c1-4e0c-de09-b21bff403490"
      },
      "source": [
        "file_name = input(\"Please enter a the name of your file you would like to organise:\\n\")"
      ],
      "execution_count": 2,
      "outputs": [
        {
          "output_type": "stream",
          "text": [
            "Please enter a the name of your file you would like to organise:\n",
            "\n"
          ],
          "name": "stdout"
        }
      ]
    },
    {
      "cell_type": "code",
      "metadata": {
        "id": "jQcl07G4IFvB",
        "colab_type": "code",
        "colab": {
          "base_uri": "https://localhost:8080/",
          "height": 35
        },
        "outputId": "59e66e91-0fe8-4a29-95c9-db8093f3e7bf"
      },
      "source": [
        "file_name"
      ],
      "execution_count": 3,
      "outputs": [
        {
          "output_type": "execute_result",
          "data": {
            "application/vnd.google.colaboratory.intrinsic+json": {
              "type": "string"
            },
            "text/plain": [
              "''"
            ]
          },
          "metadata": {
            "tags": []
          },
          "execution_count": 3
        }
      ]
    },
    {
      "cell_type": "code",
      "metadata": {
        "id": "XicxxpVPHbmV",
        "colab_type": "code",
        "colab": {
          "base_uri": "https://localhost:8080/",
          "height": 232
        },
        "outputId": "310ecd60-83c9-43ef-ab42-c79a2e0acc2f"
      },
      "source": [
        ">>> import csv\n",
        "\n",
        "account_array = []\n",
        "with open(file_name) as csvDataFile:\n",
        "    csvReader = csv.reader(csvDataFile)\n",
        "    for row in csvReader:\n",
        "        account_array.append(row)\n",
        "... print(\"Your csv file is now ready to be organised...\")"
      ],
      "execution_count": 4,
      "outputs": [
        {
          "output_type": "error",
          "ename": "FileNotFoundError",
          "evalue": "ignored",
          "traceback": [
            "\u001b[0;31m---------------------------------------------------------------------------\u001b[0m",
            "\u001b[0;31mFileNotFoundError\u001b[0m                         Traceback (most recent call last)",
            "\u001b[0;32m<ipython-input-4-62ca1cdf30e1>\u001b[0m in \u001b[0;36m<module>\u001b[0;34m()\u001b[0m\n\u001b[1;32m      2\u001b[0m \u001b[0;34m\u001b[0m\u001b[0m\n\u001b[1;32m      3\u001b[0m \u001b[0maccount_array\u001b[0m \u001b[0;34m=\u001b[0m \u001b[0;34m[\u001b[0m\u001b[0;34m]\u001b[0m\u001b[0;34m\u001b[0m\u001b[0;34m\u001b[0m\u001b[0m\n\u001b[0;32m----> 4\u001b[0;31m \u001b[0;32mwith\u001b[0m \u001b[0mopen\u001b[0m\u001b[0;34m(\u001b[0m\u001b[0mfile_name\u001b[0m\u001b[0;34m)\u001b[0m \u001b[0;32mas\u001b[0m \u001b[0mcsvDataFile\u001b[0m\u001b[0;34m:\u001b[0m\u001b[0;34m\u001b[0m\u001b[0;34m\u001b[0m\u001b[0m\n\u001b[0m\u001b[1;32m      5\u001b[0m     \u001b[0mcsvReader\u001b[0m \u001b[0;34m=\u001b[0m \u001b[0mcsv\u001b[0m\u001b[0;34m.\u001b[0m\u001b[0mreader\u001b[0m\u001b[0;34m(\u001b[0m\u001b[0mcsvDataFile\u001b[0m\u001b[0;34m)\u001b[0m\u001b[0;34m\u001b[0m\u001b[0;34m\u001b[0m\u001b[0m\n\u001b[1;32m      6\u001b[0m     \u001b[0;32mfor\u001b[0m \u001b[0mrow\u001b[0m \u001b[0;32min\u001b[0m \u001b[0mcsvReader\u001b[0m\u001b[0;34m:\u001b[0m\u001b[0;34m\u001b[0m\u001b[0;34m\u001b[0m\u001b[0m\n",
            "\u001b[0;31mFileNotFoundError\u001b[0m: [Errno 2] No such file or directory: ''"
          ]
        }
      ]
    },
    {
      "cell_type": "code",
      "metadata": {
        "id": "yjBVQl1jTKyq",
        "colab_type": "code",
        "colab": {}
      },
      "source": [
        "import re\n",
        "regex_pattern = r\"(?:[A-Z]{2,} [A-Z]/?[A-Z]*-?[A-Z]*|\\b[A-Z]{2,})\""
      ],
      "execution_count": null,
      "outputs": []
    },
    {
      "cell_type": "code",
      "metadata": {
        "id": "U64iu7SrLgp2",
        "colab_type": "code",
        "colab": {}
      },
      "source": [
        "\n",
        "for row in account_array:\n",
        "    match  = re.search(regex_pattern, row[2])\n",
        "    if match:\n",
        "        id = (match.group())\n",
        "    else:\n",
        "      id = \"No id found\"\n",
        "    row.append(id)\n",
        "\n",
        "print('ID added to each row')\n",
        " \n",
        "    "
      ],
      "execution_count": null,
      "outputs": []
    },
    {
      "cell_type": "markdown",
      "metadata": {
        "id": "1uodsjlakgAa",
        "colab_type": "text"
      },
      "source": [
        "Create header for ID column\n"
      ]
    },
    {
      "cell_type": "code",
      "metadata": {
        "id": "6xfmUCMzMWhw",
        "colab_type": "code",
        "colab": {}
      },
      "source": [
        "account_array[0] = ('ID')"
      ],
      "execution_count": null,
      "outputs": []
    },
    {
      "cell_type": "code",
      "metadata": {
        "id": "x_JpC-5AMdTi",
        "colab_type": "code",
        "colab": {}
      },
      "source": [
        "with open('test.csv', mode='w') as csvfile:\n",
        "    statement_writer = csv.writer(csvfile, delimiter=',', quotechar='\"', quoting=csv.QUOTE_MINIMAL)\n",
        "    for row in account_array:\n",
        "        statement_writer.writerow(row)"
      ],
      "execution_count": null,
      "outputs": []
    }
  ]
}